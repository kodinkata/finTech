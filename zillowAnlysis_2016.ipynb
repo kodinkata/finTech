{
 "cells": [
  {
   "cell_type": "markdown",
   "metadata": {},
   "source": [
    "# Zillow Housing Index\n",
    "## Objective\n",
    "The goal of this assignment is to  to analyze the Zillow housing datatset and show how wealth is distributed in the U.S.\n",
    "## Python libraries used\n",
    "- Pandas\n",
    "- Numpy\n",
    "- Matplot\n",
    "## Data Source\n",
    "<a href=\"https://www.zillow.com/research/data/\">Zillow Research Dataset</a>"
   ]
  },
  {
   "cell_type": "code",
   "execution_count": null,
   "metadata": {
    "collapsed": true
   },
   "outputs": [],
   "source": []
  },
  {
   "cell_type": "code",
   "execution_count": 3,
   "metadata": {
    "collapsed": false
   },
   "outputs": [],
   "source": [
    "from __future__ import division\n",
    "\n",
    "import matplotlib.pyplot as plt\n",
    "import numpy as np\n",
    "import pandas as pd\n",
    "\n",
    "%matplotlib inline\n",
    "\n",
    "plt.rcParams['figure.figsize'] = (15, 7)"
   ]
  },
  {
   "cell_type": "markdown",
   "metadata": {},
   "source": [
    "#### Reads csv and assigns to a data frame object"
   ]
  },
  {
   "cell_type": "code",
   "execution_count": 4,
   "metadata": {
    "collapsed": true
   },
   "outputs": [],
   "source": [
    "df = pd.read_csv('zillow_homes.csv') "
   ]
  },
  {
   "cell_type": "markdown",
   "metadata": {},
   "source": [
    "#### Returns the first 2 rows "
   ]
  },
  {
   "cell_type": "code",
   "execution_count": 5,
   "metadata": {
    "collapsed": false
   },
   "outputs": [
    {
     "data": {
      "text/html": [
       "<div>\n",
       "<table border=\"1\" class=\"dataframe\">\n",
       "  <thead>\n",
       "    <tr style=\"text-align: right;\">\n",
       "      <th></th>\n",
       "      <th>Date</th>\n",
       "      <th>RegionID</th>\n",
       "      <th>RegionName</th>\n",
       "      <th>State</th>\n",
       "      <th>Metro</th>\n",
       "      <th>County</th>\n",
       "      <th>City</th>\n",
       "      <th>SizeRank</th>\n",
       "      <th>Zhvi</th>\n",
       "      <th>MoM</th>\n",
       "      <th>QoQ</th>\n",
       "      <th>YoY</th>\n",
       "      <th>5Year</th>\n",
       "      <th>10Year</th>\n",
       "      <th>PeakMonth</th>\n",
       "      <th>PeakQuarter</th>\n",
       "      <th>PeakZHVI</th>\n",
       "      <th>PctFallFromPeak</th>\n",
       "      <th>LastTimeAtCurrZHVI</th>\n",
       "    </tr>\n",
       "  </thead>\n",
       "  <tbody>\n",
       "    <tr>\n",
       "      <th>0</th>\n",
       "      <td>2016-09-30</td>\n",
       "      <td>61639</td>\n",
       "      <td>10025</td>\n",
       "      <td>NY</td>\n",
       "      <td>New York</td>\n",
       "      <td>New York</td>\n",
       "      <td>New York</td>\n",
       "      <td>0</td>\n",
       "      <td>1004200</td>\n",
       "      <td>-0.009567</td>\n",
       "      <td>-0.040329</td>\n",
       "      <td>-0.087837</td>\n",
       "      <td>0.064578</td>\n",
       "      <td>0.029179</td>\n",
       "      <td>2016-03</td>\n",
       "      <td>2016-Q1</td>\n",
       "      <td>1103200</td>\n",
       "      <td>-0.089739</td>\n",
       "      <td>2015-06</td>\n",
       "    </tr>\n",
       "    <tr>\n",
       "      <th>1</th>\n",
       "      <td>2016-09-30</td>\n",
       "      <td>84654</td>\n",
       "      <td>60657</td>\n",
       "      <td>IL</td>\n",
       "      <td>Chicago</td>\n",
       "      <td>Cook</td>\n",
       "      <td>Chicago</td>\n",
       "      <td>1</td>\n",
       "      <td>318300</td>\n",
       "      <td>0.007916</td>\n",
       "      <td>0.023144</td>\n",
       "      <td>0.029098</td>\n",
       "      <td>0.037020</td>\n",
       "      <td>0.000094</td>\n",
       "      <td>2007-09</td>\n",
       "      <td>2007-Q3</td>\n",
       "      <td>324300</td>\n",
       "      <td>-0.018501</td>\n",
       "      <td>2006-12</td>\n",
       "    </tr>\n",
       "  </tbody>\n",
       "</table>\n",
       "</div>"
      ],
      "text/plain": [
       "         Date  RegionID  RegionName State     Metro    County      City  \\\n",
       "0  2016-09-30     61639       10025    NY  New York  New York  New York   \n",
       "1  2016-09-30     84654       60657    IL   Chicago      Cook   Chicago   \n",
       "\n",
       "   SizeRank     Zhvi       MoM       QoQ       YoY     5Year    10Year  \\\n",
       "0         0  1004200 -0.009567 -0.040329 -0.087837  0.064578  0.029179   \n",
       "1         1   318300  0.007916  0.023144  0.029098  0.037020  0.000094   \n",
       "\n",
       "  PeakMonth PeakQuarter  PeakZHVI  PctFallFromPeak LastTimeAtCurrZHVI  \n",
       "0   2016-03     2016-Q1   1103200        -0.089739            2015-06  \n",
       "1   2007-09     2007-Q3    324300        -0.018501            2006-12  "
      ]
     },
     "execution_count": 5,
     "metadata": {},
     "output_type": "execute_result"
    }
   ],
   "source": [
    "df.head(2)"
   ]
  },
  {
   "cell_type": "markdown",
   "metadata": {},
   "source": [
    "#### Number of unique states"
   ]
  },
  {
   "cell_type": "code",
   "execution_count": 6,
   "metadata": {
    "collapsed": false
   },
   "outputs": [
    {
     "data": {
      "text/plain": [
       "array(['NY', 'IL', 'TX', 'CA', 'FL', 'TN', 'NC', 'GA', 'DC', 'MD', 'MO',\n",
       "       'AZ', 'VA', 'NJ', 'OH', 'PA', 'MI', 'KS', 'NM', 'WA', 'CT', 'NV',\n",
       "       'MA', 'CO', 'IN', 'OR', 'SC', 'OK', 'ND', 'AR', 'AL', 'DE', 'LA',\n",
       "       'MS', 'MT', 'KY', 'WI', 'HI', 'UT', 'MN', 'ID', 'RI', 'NE', 'WY',\n",
       "       'AK', 'IA', 'NH', 'VT', 'WV', 'SD', 'ME'], dtype=object)"
      ]
     },
     "execution_count": 6,
     "metadata": {},
     "output_type": "execute_result"
    }
   ],
   "source": [
    "df.State.unique() "
   ]
  },
  {
   "cell_type": "code",
   "execution_count": 7,
   "metadata": {
    "collapsed": false
   },
   "outputs": [
    {
     "data": {
      "text/plain": [
       "51"
      ]
     },
     "execution_count": 7,
     "metadata": {},
     "output_type": "execute_result"
    }
   ],
   "source": [
    "len(df.State.unique()) "
   ]
  },
  {
   "cell_type": "markdown",
   "metadata": {},
   "source": [
    "####  Number of zipcodes in each state"
   ]
  },
  {
   "cell_type": "code",
   "execution_count": 8,
   "metadata": {
    "collapsed": false
   },
   "outputs": [
    {
     "data": {
      "text/plain": [
       "State\n",
       "CA    1208\n",
       "NY     962\n",
       "FL     815\n",
       "PA     771\n",
       "TX     598\n",
       "dtype: int64"
      ]
     },
     "execution_count": 8,
     "metadata": {},
     "output_type": "execute_result"
    }
   ],
   "source": [
    "df.groupby('State').size().sort_values(ascending=False)[:5] "
   ]
  },
  {
   "cell_type": "code",
   "execution_count": 9,
   "metadata": {
    "collapsed": false
   },
   "outputs": [
    {
     "data": {
      "text/plain": [
       "CA    1208\n",
       "NY     962\n",
       "FL     815\n",
       "PA     771\n",
       "TX     598\n",
       "Name: State, dtype: int64"
      ]
     },
     "execution_count": 9,
     "metadata": {},
     "output_type": "execute_result"
    }
   ],
   "source": [
    "df.State.value_counts()[:5] "
   ]
  },
  {
   "cell_type": "markdown",
   "metadata": {},
   "source": [
    "#### Histogram of number of counties in each price bucket"
   ]
  },
  {
   "cell_type": "code",
   "execution_count": 10,
   "metadata": {
    "collapsed": false,
    "scrolled": false
   },
   "outputs": [
    {
     "data": {
      "image/png": "[encoded data removed]",
      "text/plain": [
       "<matplotlib.figure.Figure at 0x1153a5810>"
      ]
     },
     "metadata": {},
     "output_type": "display_data"
    }
   ],
   "source": [
    "plt.title('Counties Histogram by Price')\n",
    "plt.xlabel('Price in Million $')\n",
    "plt.ylabel('Number of Zipcodes')\n",
    "plt.hist(df.Zhvi / 10 ** 6, bins=100, alpha=0.4, color='red');\n"
   ]
  },
  {
   "cell_type": "markdown",
   "metadata": {},
   "source": [
    "#### Normalized histogram"
   ]
  },
  {
   "cell_type": "code",
   "execution_count": 11,
   "metadata": {
    "collapsed": false
   },
   "outputs": [
    {
     "data": {
      "image/png": "[encoded data removed]",
      "text/plain": [
       "<matplotlib.figure.Figure at 0x115d631d0>"
      ]
     },
     "metadata": {},
     "output_type": "display_data"
    }
   ],
   "source": [
    "plt.title('Normal Distribution of Counties by Price')\n",
    "plt.xlabel('Log 10 Transformed Prices')\n",
    "plt.ylabel('Number of Zipcodes')\n",
    "plt.hist(np.log10(df.Zhvi), bins=100, alpha=0.4, color='orange'); # By taking log of prices makes the plot less skewed"
   ]
  },
  {
   "cell_type": "markdown",
   "metadata": {},
   "source": [
    "#### Empirical Cumulative Distribution"
   ]
  },
  {
   "cell_type": "code",
   "execution_count": 12,
   "metadata": {
    "collapsed": false
   },
   "outputs": [
    {
     "data": {
      "image/png": "[encoded data removed]",
      "text/plain": [
       "<matplotlib.figure.Figure at 0x11979b450>"
      ]
     },
     "metadata": {},
     "output_type": "display_data"
    }
   ],
   "source": [
    "x = df.Zhvi.sort_values()\n",
    "y = np.arange(1, len(df) + 1) / len(df)\n",
    "plt.margins(0.02)\n",
    "plt.title('Normalized Cumulative Distribution of Number of Counties by Housing Price')\n",
    "plt.xlabel('Price in Million $')\n",
    "plt.ylabel('Percent of Zipcodes')\n",
    "plt.plot(x, y, color='blue'); # summation of the bars"
   ]
  },
  {
   "cell_type": "markdown",
   "metadata": {},
   "source": [
    "#### Boxplot of counties by housing prices"
   ]
  },
  {
   "cell_type": "code",
   "execution_count": 13,
   "metadata": {
    "collapsed": false
   },
   "outputs": [
    {
     "data": {
      "image/png": "[encoded data removed]",
      "text/plain": [
       "<matplotlib.figure.Figure at 0x1020352d0>"
      ]
     },
     "metadata": {},
     "output_type": "display_data"
    }
   ],
   "source": [
    "plt.title('Boxplot of Counties by Housing Price')\n",
    "plt.ylabel('Price in Million $')\n",
    "plt.boxplot(df.Zhvi.values / 10 ** 6);"
   ]
  },
  {
   "cell_type": "markdown",
   "metadata": {},
   "source": [
    "#### Descriptive statistics "
   ]
  },
  {
   "cell_type": "code",
   "execution_count": 14,
   "metadata": {
    "collapsed": false
   },
   "outputs": [
    {
     "data": {
      "text/plain": [
       "count    1.248100e+04\n",
       "mean     2.629272e+05\n",
       "std      2.533642e+05\n",
       "min      3.130000e+04\n",
       "25%      1.296000e+05\n",
       "50%      1.897000e+05\n",
       "75%      3.061000e+05\n",
       "max      6.108000e+06\n",
       "Name: Zhvi, dtype: float64"
      ]
     },
     "execution_count": 14,
     "metadata": {},
     "output_type": "execute_result"
    }
   ],
   "source": [
    "df.Zhvi.describe()"
   ]
  },
  {
   "cell_type": "markdown",
   "metadata": {},
   "source": [
    "####  0.3% of zipcodes in the U.S. have median house price of 2 million "
   ]
  },
  {
   "cell_type": "code",
   "execution_count": 25,
   "metadata": {
    "collapsed": false,
    "scrolled": true
   },
   "outputs": [
    {
     "data": {
      "text/plain": [
       "0.3"
      ]
     },
     "execution_count": 25,
     "metadata": {},
     "output_type": "execute_result"
    },
    {
     "name": "stdout",
     "output_type": "stream",
     "text": [
      "\n"
     ]
    }
   ],
   "source": [
    "round(len(df[df.Zhvi > 10 ** 6 * 2]) / len(df), 3) * 100 "
   ]
  },
  {
   "cell_type": "markdown",
   "metadata": {},
   "source": [
    "#### Fastest appreciation cities"
   ]
  },
  {
   "cell_type": "code",
   "execution_count": 26,
   "metadata": {
    "collapsed": false,
    "scrolled": true
   },
   "outputs": [
    {
     "data": {
      "text/html": [
       "<div>\n",
       "<table border=\"1\" class=\"dataframe\">\n",
       "  <thead>\n",
       "    <tr style=\"text-align: right;\">\n",
       "      <th></th>\n",
       "      <th>Date</th>\n",
       "      <th>RegionID</th>\n",
       "      <th>RegionName</th>\n",
       "      <th>State</th>\n",
       "      <th>Metro</th>\n",
       "      <th>County</th>\n",
       "      <th>City</th>\n",
       "      <th>SizeRank</th>\n",
       "      <th>Zhvi</th>\n",
       "      <th>MoM</th>\n",
       "      <th>QoQ</th>\n",
       "      <th>YoY</th>\n",
       "      <th>5Year</th>\n",
       "      <th>10Year</th>\n",
       "      <th>PeakMonth</th>\n",
       "      <th>PeakQuarter</th>\n",
       "      <th>PeakZHVI</th>\n",
       "      <th>PctFallFromPeak</th>\n",
       "      <th>LastTimeAtCurrZHVI</th>\n",
       "    </tr>\n",
       "  </thead>\n",
       "  <tbody>\n",
       "    <tr>\n",
       "      <th>6019</th>\n",
       "      <td>2016-09-30</td>\n",
       "      <td>75847</td>\n",
       "      <td>40965</td>\n",
       "      <td>KY</td>\n",
       "      <td>Middlesborough</td>\n",
       "      <td>Bell</td>\n",
       "      <td>Middlesborough</td>\n",
       "      <td>6019</td>\n",
       "      <td>87500</td>\n",
       "      <td>0.022196</td>\n",
       "      <td>0.136364</td>\n",
       "      <td>0.488095</td>\n",
       "      <td>0.021685</td>\n",
       "      <td>NaN</td>\n",
       "      <td>2016-09</td>\n",
       "      <td>2016-Q3</td>\n",
       "      <td>87500</td>\n",
       "      <td>0.000000</td>\n",
       "      <td>2016-09</td>\n",
       "    </tr>\n",
       "    <tr>\n",
       "      <th>9535</th>\n",
       "      <td>2016-09-30</td>\n",
       "      <td>71412</td>\n",
       "      <td>31063</td>\n",
       "      <td>GA</td>\n",
       "      <td>NaN</td>\n",
       "      <td>Macon</td>\n",
       "      <td>Montezuma</td>\n",
       "      <td>9535</td>\n",
       "      <td>72300</td>\n",
       "      <td>0.009777</td>\n",
       "      <td>0.055474</td>\n",
       "      <td>0.446000</td>\n",
       "      <td>0.082681</td>\n",
       "      <td>0.004974</td>\n",
       "      <td>2009-12</td>\n",
       "      <td>2009-Q4</td>\n",
       "      <td>74700</td>\n",
       "      <td>-0.032129</td>\n",
       "      <td>2009-09</td>\n",
       "    </tr>\n",
       "    <tr>\n",
       "      <th>7204</th>\n",
       "      <td>2016-09-30</td>\n",
       "      <td>68084</td>\n",
       "      <td>24293</td>\n",
       "      <td>VA</td>\n",
       "      <td>Big Stone Gap</td>\n",
       "      <td>Wise</td>\n",
       "      <td>Wise</td>\n",
       "      <td>7204</td>\n",
       "      <td>142400</td>\n",
       "      <td>0.013523</td>\n",
       "      <td>0.031884</td>\n",
       "      <td>0.445685</td>\n",
       "      <td>0.075412</td>\n",
       "      <td>0.045337</td>\n",
       "      <td>2016-09</td>\n",
       "      <td>2016-Q3</td>\n",
       "      <td>142400</td>\n",
       "      <td>0.000000</td>\n",
       "      <td>2016-09</td>\n",
       "    </tr>\n",
       "    <tr>\n",
       "      <th>2615</th>\n",
       "      <td>2016-09-30</td>\n",
       "      <td>96969</td>\n",
       "      <td>92651</td>\n",
       "      <td>CA</td>\n",
       "      <td>Los Angeles-Long Beach-Anaheim</td>\n",
       "      <td>Orange</td>\n",
       "      <td>Laguna Beach</td>\n",
       "      <td>2615</td>\n",
       "      <td>2170200</td>\n",
       "      <td>0.034364</td>\n",
       "      <td>0.120450</td>\n",
       "      <td>0.419173</td>\n",
       "      <td>0.085042</td>\n",
       "      <td>0.035790</td>\n",
       "      <td>2016-09</td>\n",
       "      <td>2016-Q3</td>\n",
       "      <td>2170200</td>\n",
       "      <td>0.000000</td>\n",
       "      <td>2016-09</td>\n",
       "    </tr>\n",
       "    <tr>\n",
       "      <th>9251</th>\n",
       "      <td>2016-09-30</td>\n",
       "      <td>71606</td>\n",
       "      <td>31634</td>\n",
       "      <td>GA</td>\n",
       "      <td>NaN</td>\n",
       "      <td>Clinch</td>\n",
       "      <td>Homerville</td>\n",
       "      <td>9251</td>\n",
       "      <td>86700</td>\n",
       "      <td>0.017606</td>\n",
       "      <td>0.082397</td>\n",
       "      <td>0.418985</td>\n",
       "      <td>0.063594</td>\n",
       "      <td>0.045429</td>\n",
       "      <td>2016-09</td>\n",
       "      <td>2016-Q3</td>\n",
       "      <td>86700</td>\n",
       "      <td>0.000000</td>\n",
       "      <td>2016-09</td>\n",
       "    </tr>\n",
       "  </tbody>\n",
       "</table>\n",
       "</div>"
      ],
      "text/plain": [
       "            Date  RegionID  RegionName State                           Metro  \\\n",
       "6019  2016-09-30     75847       40965    KY                  Middlesborough   \n",
       "9535  2016-09-30     71412       31063    GA                             NaN   \n",
       "7204  2016-09-30     68084       24293    VA                   Big Stone Gap   \n",
       "2615  2016-09-30     96969       92651    CA  Los Angeles-Long Beach-Anaheim   \n",
       "9251  2016-09-30     71606       31634    GA                             NaN   \n",
       "\n",
       "      County            City  SizeRank     Zhvi       MoM       QoQ       YoY  \\\n",
       "6019    Bell  Middlesborough      6019    87500  0.022196  0.136364  0.488095   \n",
       "9535   Macon       Montezuma      9535    72300  0.009777  0.055474  0.446000   \n",
       "7204    Wise            Wise      7204   142400  0.013523  0.031884  0.445685   \n",
       "2615  Orange    Laguna Beach      2615  2170200  0.034364  0.120450  0.419173   \n",
       "9251  Clinch      Homerville      9251    86700  0.017606  0.082397  0.418985   \n",
       "\n",
       "         5Year    10Year PeakMonth PeakQuarter  PeakZHVI  PctFallFromPeak  \\\n",
       "6019  0.021685       NaN   2016-09     2016-Q3     87500         0.000000   \n",
       "9535  0.082681  0.004974   2009-12     2009-Q4     74700        -0.032129   \n",
       "7204  0.075412  0.045337   2016-09     2016-Q3    142400         0.000000   \n",
       "2615  0.085042  0.035790   2016-09     2016-Q3   2170200         0.000000   \n",
       "9251  0.063594  0.045429   2016-09     2016-Q3     86700         0.000000   \n",
       "\n",
       "     LastTimeAtCurrZHVI  \n",
       "6019            2016-09  \n",
       "9535            2009-09  \n",
       "7204            2016-09  \n",
       "2615            2016-09  \n",
       "9251            2016-09  "
      ]
     },
     "execution_count": 26,
     "metadata": {},
     "output_type": "execute_result"
    }
   ],
   "source": [
    "df.sort_values('YoY', ascending=False)[:5]"
   ]
  },
  {
   "cell_type": "markdown",
   "metadata": {},
   "source": [
    "#### Slowest appreciation cities"
   ]
  },
  {
   "cell_type": "code",
   "execution_count": 27,
   "metadata": {
    "collapsed": false
   },
   "outputs": [
    {
     "data": {
      "text/html": [
       "<div>\n",
       "<table border=\"1\" class=\"dataframe\">\n",
       "  <thead>\n",
       "    <tr style=\"text-align: right;\">\n",
       "      <th></th>\n",
       "      <th>Date</th>\n",
       "      <th>RegionID</th>\n",
       "      <th>RegionName</th>\n",
       "      <th>State</th>\n",
       "      <th>Metro</th>\n",
       "      <th>County</th>\n",
       "      <th>City</th>\n",
       "      <th>SizeRank</th>\n",
       "      <th>Zhvi</th>\n",
       "      <th>MoM</th>\n",
       "      <th>QoQ</th>\n",
       "      <th>YoY</th>\n",
       "      <th>5Year</th>\n",
       "      <th>10Year</th>\n",
       "      <th>PeakMonth</th>\n",
       "      <th>PeakQuarter</th>\n",
       "      <th>PeakZHVI</th>\n",
       "      <th>PctFallFromPeak</th>\n",
       "      <th>LastTimeAtCurrZHVI</th>\n",
       "    </tr>\n",
       "  </thead>\n",
       "  <tbody>\n",
       "    <tr>\n",
       "      <th>10028</th>\n",
       "      <td>2016-09-30</td>\n",
       "      <td>84790</td>\n",
       "      <td>61054</td>\n",
       "      <td>IL</td>\n",
       "      <td>Rochelle</td>\n",
       "      <td>Ogle</td>\n",
       "      <td>Mount Morris</td>\n",
       "      <td>10028</td>\n",
       "      <td>34800</td>\n",
       "      <td>-0.027933</td>\n",
       "      <td>-0.079365</td>\n",
       "      <td>-0.325581</td>\n",
       "      <td>-0.165907</td>\n",
       "      <td>NaN</td>\n",
       "      <td>2009-08</td>\n",
       "      <td>2009-Q3</td>\n",
       "      <td>103400</td>\n",
       "      <td>-0.663443</td>\n",
       "      <td>NaN</td>\n",
       "    </tr>\n",
       "    <tr>\n",
       "      <th>9512</th>\n",
       "      <td>2016-09-30</td>\n",
       "      <td>76510</td>\n",
       "      <td>43080</td>\n",
       "      <td>OH</td>\n",
       "      <td>Columbus</td>\n",
       "      <td>Licking</td>\n",
       "      <td>Utica</td>\n",
       "      <td>9512</td>\n",
       "      <td>128800</td>\n",
       "      <td>-0.025719</td>\n",
       "      <td>-0.087819</td>\n",
       "      <td>-0.293085</td>\n",
       "      <td>0.046127</td>\n",
       "      <td>0.020835</td>\n",
       "      <td>2015-08</td>\n",
       "      <td>2015-Q3</td>\n",
       "      <td>184000</td>\n",
       "      <td>-0.300000</td>\n",
       "      <td>2014-01</td>\n",
       "    </tr>\n",
       "    <tr>\n",
       "      <th>8414</th>\n",
       "      <td>2016-09-30</td>\n",
       "      <td>84756</td>\n",
       "      <td>61010</td>\n",
       "      <td>IL</td>\n",
       "      <td>Rochelle</td>\n",
       "      <td>Ogle</td>\n",
       "      <td>Byron</td>\n",
       "      <td>8414</td>\n",
       "      <td>76500</td>\n",
       "      <td>-0.009067</td>\n",
       "      <td>-0.032870</td>\n",
       "      <td>-0.284378</td>\n",
       "      <td>-0.129336</td>\n",
       "      <td>NaN</td>\n",
       "      <td>2009-08</td>\n",
       "      <td>2009-Q3</td>\n",
       "      <td>168700</td>\n",
       "      <td>-0.546532</td>\n",
       "      <td>NaN</td>\n",
       "    </tr>\n",
       "    <tr>\n",
       "      <th>11128</th>\n",
       "      <td>2016-09-30</td>\n",
       "      <td>84765</td>\n",
       "      <td>61020</td>\n",
       "      <td>IL</td>\n",
       "      <td>Rochelle</td>\n",
       "      <td>Ogle</td>\n",
       "      <td>Davis Junction</td>\n",
       "      <td>11128</td>\n",
       "      <td>66900</td>\n",
       "      <td>-0.001493</td>\n",
       "      <td>0.009050</td>\n",
       "      <td>-0.278317</td>\n",
       "      <td>-0.129580</td>\n",
       "      <td>NaN</td>\n",
       "      <td>2009-08</td>\n",
       "      <td>2009-Q3</td>\n",
       "      <td>155000</td>\n",
       "      <td>-0.568387</td>\n",
       "      <td>NaN</td>\n",
       "    </tr>\n",
       "    <tr>\n",
       "      <th>10932</th>\n",
       "      <td>2016-09-30</td>\n",
       "      <td>84813</td>\n",
       "      <td>61084</td>\n",
       "      <td>IL</td>\n",
       "      <td>Rochelle</td>\n",
       "      <td>Ogle</td>\n",
       "      <td>Stillman Valley</td>\n",
       "      <td>10932</td>\n",
       "      <td>73800</td>\n",
       "      <td>-0.002703</td>\n",
       "      <td>-0.016000</td>\n",
       "      <td>-0.263473</td>\n",
       "      <td>-0.137256</td>\n",
       "      <td>NaN</td>\n",
       "      <td>2009-08</td>\n",
       "      <td>2009-Q3</td>\n",
       "      <td>163200</td>\n",
       "      <td>-0.547794</td>\n",
       "      <td>NaN</td>\n",
       "    </tr>\n",
       "  </tbody>\n",
       "</table>\n",
       "</div>"
      ],
      "text/plain": [
       "             Date  RegionID  RegionName State     Metro   County  \\\n",
       "10028  2016-09-30     84790       61054    IL  Rochelle     Ogle   \n",
       "9512   2016-09-30     76510       43080    OH  Columbus  Licking   \n",
       "8414   2016-09-30     84756       61010    IL  Rochelle     Ogle   \n",
       "11128  2016-09-30     84765       61020    IL  Rochelle     Ogle   \n",
       "10932  2016-09-30     84813       61084    IL  Rochelle     Ogle   \n",
       "\n",
       "                  City  SizeRank    Zhvi       MoM       QoQ       YoY  \\\n",
       "10028     Mount Morris     10028   34800 -0.027933 -0.079365 -0.325581   \n",
       "9512             Utica      9512  128800 -0.025719 -0.087819 -0.293085   \n",
       "8414             Byron      8414   76500 -0.009067 -0.032870 -0.284378   \n",
       "11128   Davis Junction     11128   66900 -0.001493  0.009050 -0.278317   \n",
       "10932  Stillman Valley     10932   73800 -0.002703 -0.016000 -0.263473   \n",
       "\n",
       "          5Year    10Year PeakMonth PeakQuarter  PeakZHVI  PctFallFromPeak  \\\n",
       "10028 -0.165907       NaN   2009-08     2009-Q3    103400        -0.663443   \n",
       "9512   0.046127  0.020835   2015-08     2015-Q3    184000        -0.300000   \n",
       "8414  -0.129336       NaN   2009-08     2009-Q3    168700        -0.546532   \n",
       "11128 -0.129580       NaN   2009-08     2009-Q3    155000        -0.568387   \n",
       "10932 -0.137256       NaN   2009-08     2009-Q3    163200        -0.547794   \n",
       "\n",
       "      LastTimeAtCurrZHVI  \n",
       "10028                NaN  \n",
       "9512             2014-01  \n",
       "8414                 NaN  \n",
       "11128                NaN  \n",
       "10932                NaN  "
      ]
     },
     "execution_count": 27,
     "metadata": {},
     "output_type": "execute_result"
    }
   ],
   "source": [
    "df.sort_values('YoY')[:5]"
   ]
  },
  {
   "cell_type": "markdown",
   "metadata": {},
   "source": [
    "### Kutztown rank"
   ]
  },
  {
   "cell_type": "code",
   "execution_count": 28,
   "metadata": {
    "collapsed": false
   },
   "outputs": [
    {
     "data": {
      "text/html": [
       "<div>\n",
       "<table border=\"1\" class=\"dataframe\">\n",
       "  <thead>\n",
       "    <tr style=\"text-align: right;\">\n",
       "      <th></th>\n",
       "      <th>Date</th>\n",
       "      <th>RegionID</th>\n",
       "      <th>RegionName</th>\n",
       "      <th>State</th>\n",
       "      <th>Metro</th>\n",
       "      <th>County</th>\n",
       "      <th>City</th>\n",
       "      <th>SizeRank</th>\n",
       "      <th>Zhvi</th>\n",
       "      <th>MoM</th>\n",
       "      <th>QoQ</th>\n",
       "      <th>YoY</th>\n",
       "      <th>5Year</th>\n",
       "      <th>10Year</th>\n",
       "      <th>PeakMonth</th>\n",
       "      <th>PeakQuarter</th>\n",
       "      <th>PeakZHVI</th>\n",
       "      <th>PctFallFromPeak</th>\n",
       "      <th>LastTimeAtCurrZHVI</th>\n",
       "    </tr>\n",
       "  </thead>\n",
       "  <tbody>\n",
       "    <tr>\n",
       "      <th>6951</th>\n",
       "      <td>2016-09-30</td>\n",
       "      <td>65988</td>\n",
       "      <td>19530</td>\n",
       "      <td>PA</td>\n",
       "      <td>Reading</td>\n",
       "      <td>Berks</td>\n",
       "      <td>Kutztown</td>\n",
       "      <td>6951</td>\n",
       "      <td>191200</td>\n",
       "      <td>0.001047</td>\n",
       "      <td>0.008971</td>\n",
       "      <td>0.03184</td>\n",
       "      <td>0.006941</td>\n",
       "      <td>-0.006556</td>\n",
       "      <td>2007-06</td>\n",
       "      <td>2007-Q2</td>\n",
       "      <td>215100</td>\n",
       "      <td>-0.111111</td>\n",
       "      <td>2005-12</td>\n",
       "    </tr>\n",
       "  </tbody>\n",
       "</table>\n",
       "</div>"
      ],
      "text/plain": [
       "            Date  RegionID  RegionName State    Metro County      City  \\\n",
       "6951  2016-09-30     65988       19530    PA  Reading  Berks  Kutztown   \n",
       "\n",
       "      SizeRank    Zhvi       MoM       QoQ      YoY     5Year    10Year  \\\n",
       "6951      6951  191200  0.001047  0.008971  0.03184  0.006941 -0.006556   \n",
       "\n",
       "     PeakMonth PeakQuarter  PeakZHVI  PctFallFromPeak LastTimeAtCurrZHVI  \n",
       "6951   2007-06     2007-Q2    215100        -0.111111            2005-12  "
      ]
     },
     "execution_count": 28,
     "metadata": {},
     "output_type": "execute_result"
    }
   ],
   "source": [
    "df[df.City == 'Kutztown'] # median house price in Kutztown is $191,200"
   ]
  },
  {
   "cell_type": "code",
   "execution_count": 29,
   "metadata": {
    "collapsed": false
   },
   "outputs": [
    {
     "data": {
      "text/plain": [
       "191200"
      ]
     },
     "execution_count": 29,
     "metadata": {},
     "output_type": "execute_result"
    }
   ],
   "source": [
    "kutztown_zhvi = df[df.City == 'Kutztown']['Zhvi'].values[0]\n",
    "kutztown_zhvi"
   ]
  },
  {
   "cell_type": "code",
   "execution_count": 61,
   "metadata": {
    "collapsed": false
   },
   "outputs": [
    {
     "name": "stdout",
     "output_type": "stream",
     "text": [
      "Kutztown rank is 6192 out of 12481 zipcodes\n"
     ]
    }
   ],
   "source": [
    "sorted_desc_zhvi = sorted(list(df.Zhvi.values), reverse=True)\n",
    "print 'Kutztown rank is', sorted_desc_zhvi.index(kutztown_zhvi), 'out of', len(df), 'zipcodes'\n",
    "# we find the index of the rank of Kutztown in the Nation "
   ]
  },
  {
   "cell_type": "markdown",
   "metadata": {},
   "source": [
    "#### Most expensive zipcodes"
   ]
  },
  {
   "cell_type": "code",
   "execution_count": 62,
   "metadata": {
    "collapsed": false
   },
   "outputs": [
    {
     "data": {
      "text/html": [
       "<div>\n",
       "<table border=\"1\" class=\"dataframe\">\n",
       "  <thead>\n",
       "    <tr style=\"text-align: right;\">\n",
       "      <th></th>\n",
       "      <th>Date</th>\n",
       "      <th>RegionID</th>\n",
       "      <th>RegionName</th>\n",
       "      <th>State</th>\n",
       "      <th>Metro</th>\n",
       "      <th>County</th>\n",
       "      <th>City</th>\n",
       "      <th>SizeRank</th>\n",
       "      <th>Zhvi</th>\n",
       "      <th>MoM</th>\n",
       "      <th>QoQ</th>\n",
       "      <th>YoY</th>\n",
       "      <th>5Year</th>\n",
       "      <th>10Year</th>\n",
       "      <th>PeakMonth</th>\n",
       "      <th>PeakQuarter</th>\n",
       "      <th>PeakZHVI</th>\n",
       "      <th>PctFallFromPeak</th>\n",
       "      <th>LastTimeAtCurrZHVI</th>\n",
       "    </tr>\n",
       "  </thead>\n",
       "  <tbody>\n",
       "    <tr>\n",
       "      <th>9017</th>\n",
       "      <td>2016-09-30</td>\n",
       "      <td>97518</td>\n",
       "      <td>94027</td>\n",
       "      <td>CA</td>\n",
       "      <td>San Francisco</td>\n",
       "      <td>San Mateo</td>\n",
       "      <td>Atherton</td>\n",
       "      <td>9017</td>\n",
       "      <td>6108000</td>\n",
       "      <td>-0.002955</td>\n",
       "      <td>-0.013470</td>\n",
       "      <td>0.044674</td>\n",
       "      <td>0.137956</td>\n",
       "      <td>0.048933</td>\n",
       "      <td>2016-05</td>\n",
       "      <td>2016-Q2</td>\n",
       "      <td>6220800</td>\n",
       "      <td>-0.018133</td>\n",
       "      <td>2016-02</td>\n",
       "    </tr>\n",
       "    <tr>\n",
       "      <th>4312</th>\n",
       "      <td>2016-09-30</td>\n",
       "      <td>96086</td>\n",
       "      <td>90210</td>\n",
       "      <td>CA</td>\n",
       "      <td>Los Angeles-Long Beach-Anaheim</td>\n",
       "      <td>Los Angeles</td>\n",
       "      <td>Beverly Hills</td>\n",
       "      <td>4312</td>\n",
       "      <td>5003200</td>\n",
       "      <td>-0.001457</td>\n",
       "      <td>-0.000779</td>\n",
       "      <td>0.055772</td>\n",
       "      <td>0.111951</td>\n",
       "      <td>0.049578</td>\n",
       "      <td>2016-07</td>\n",
       "      <td>2016-Q3</td>\n",
       "      <td>5020100</td>\n",
       "      <td>-0.003366</td>\n",
       "      <td>2016-06</td>\n",
       "    </tr>\n",
       "    <tr>\n",
       "      <th>9780</th>\n",
       "      <td>2016-09-30</td>\n",
       "      <td>62321</td>\n",
       "      <td>11976</td>\n",
       "      <td>NY</td>\n",
       "      <td>New York</td>\n",
       "      <td>Suffolk</td>\n",
       "      <td>Water Mill</td>\n",
       "      <td>9780</td>\n",
       "      <td>3497000</td>\n",
       "      <td>0.009352</td>\n",
       "      <td>0.051540</td>\n",
       "      <td>0.121624</td>\n",
       "      <td>0.059268</td>\n",
       "      <td>NaN</td>\n",
       "      <td>2016-09</td>\n",
       "      <td>2016-Q3</td>\n",
       "      <td>3497000</td>\n",
       "      <td>0.000000</td>\n",
       "      <td>2016-09</td>\n",
       "    </tr>\n",
       "    <tr>\n",
       "      <th>6639</th>\n",
       "      <td>2016-09-30</td>\n",
       "      <td>96149</td>\n",
       "      <td>90402</td>\n",
       "      <td>CA</td>\n",
       "      <td>Los Angeles-Long Beach-Anaheim</td>\n",
       "      <td>Los Angeles</td>\n",
       "      <td>Santa Monica</td>\n",
       "      <td>6639</td>\n",
       "      <td>3371800</td>\n",
       "      <td>-0.000711</td>\n",
       "      <td>-0.002810</td>\n",
       "      <td>0.051584</td>\n",
       "      <td>0.092347</td>\n",
       "      <td>0.028321</td>\n",
       "      <td>2016-06</td>\n",
       "      <td>2016-Q2</td>\n",
       "      <td>3381300</td>\n",
       "      <td>-0.002810</td>\n",
       "      <td>2016-05</td>\n",
       "    </tr>\n",
       "    <tr>\n",
       "      <th>5158</th>\n",
       "      <td>2016-09-30</td>\n",
       "      <td>97691</td>\n",
       "      <td>94301</td>\n",
       "      <td>CA</td>\n",
       "      <td>San Jose</td>\n",
       "      <td>Santa Clara</td>\n",
       "      <td>Palo Alto</td>\n",
       "      <td>5158</td>\n",
       "      <td>3352400</td>\n",
       "      <td>-0.003004</td>\n",
       "      <td>0.008119</td>\n",
       "      <td>0.062702</td>\n",
       "      <td>0.145896</td>\n",
       "      <td>0.083520</td>\n",
       "      <td>2016-08</td>\n",
       "      <td>2016-Q3</td>\n",
       "      <td>3362500</td>\n",
       "      <td>-0.003004</td>\n",
       "      <td>2016-07</td>\n",
       "    </tr>\n",
       "    <tr>\n",
       "      <th>5374</th>\n",
       "      <td>2016-09-30</td>\n",
       "      <td>97513</td>\n",
       "      <td>94022</td>\n",
       "      <td>CA</td>\n",
       "      <td>San Jose</td>\n",
       "      <td>Santa Clara</td>\n",
       "      <td>Los Altos</td>\n",
       "      <td>5374</td>\n",
       "      <td>3298600</td>\n",
       "      <td>-0.007253</td>\n",
       "      <td>-0.018975</td>\n",
       "      <td>0.001579</td>\n",
       "      <td>0.128623</td>\n",
       "      <td>0.056553</td>\n",
       "      <td>2016-03</td>\n",
       "      <td>2016-Q1</td>\n",
       "      <td>3403300</td>\n",
       "      <td>-0.030764</td>\n",
       "      <td>2015-10</td>\n",
       "    </tr>\n",
       "    <tr>\n",
       "      <th>10229</th>\n",
       "      <td>2016-09-30</td>\n",
       "      <td>62281</td>\n",
       "      <td>11930</td>\n",
       "      <td>NY</td>\n",
       "      <td>New York</td>\n",
       "      <td>Suffolk</td>\n",
       "      <td>Amagansett</td>\n",
       "      <td>10229</td>\n",
       "      <td>3037300</td>\n",
       "      <td>0.015310</td>\n",
       "      <td>0.107291</td>\n",
       "      <td>0.078089</td>\n",
       "      <td>0.111135</td>\n",
       "      <td>NaN</td>\n",
       "      <td>2016-09</td>\n",
       "      <td>2016-Q3</td>\n",
       "      <td>3037300</td>\n",
       "      <td>0.000000</td>\n",
       "      <td>2016-09</td>\n",
       "    </tr>\n",
       "    <tr>\n",
       "      <th>8856</th>\n",
       "      <td>2016-09-30</td>\n",
       "      <td>97519</td>\n",
       "      <td>94028</td>\n",
       "      <td>CA</td>\n",
       "      <td>San Francisco</td>\n",
       "      <td>San Mateo</td>\n",
       "      <td>Portola Valley</td>\n",
       "      <td>8856</td>\n",
       "      <td>3028400</td>\n",
       "      <td>-0.001944</td>\n",
       "      <td>-0.004994</td>\n",
       "      <td>0.005412</td>\n",
       "      <td>0.097121</td>\n",
       "      <td>0.022587</td>\n",
       "      <td>2016-02</td>\n",
       "      <td>2016-Q1</td>\n",
       "      <td>3077100</td>\n",
       "      <td>-0.015827</td>\n",
       "      <td>2015-11</td>\n",
       "    </tr>\n",
       "  </tbody>\n",
       "</table>\n",
       "</div>"
      ],
      "text/plain": [
       "             Date  RegionID  RegionName State                           Metro  \\\n",
       "9017   2016-09-30     97518       94027    CA                   San Francisco   \n",
       "4312   2016-09-30     96086       90210    CA  Los Angeles-Long Beach-Anaheim   \n",
       "9780   2016-09-30     62321       11976    NY                        New York   \n",
       "6639   2016-09-30     96149       90402    CA  Los Angeles-Long Beach-Anaheim   \n",
       "5158   2016-09-30     97691       94301    CA                        San Jose   \n",
       "5374   2016-09-30     97513       94022    CA                        San Jose   \n",
       "10229  2016-09-30     62281       11930    NY                        New York   \n",
       "8856   2016-09-30     97519       94028    CA                   San Francisco   \n",
       "\n",
       "            County            City  SizeRank     Zhvi       MoM       QoQ  \\\n",
       "9017     San Mateo        Atherton      9017  6108000 -0.002955 -0.013470   \n",
       "4312   Los Angeles   Beverly Hills      4312  5003200 -0.001457 -0.000779   \n",
       "9780       Suffolk      Water Mill      9780  3497000  0.009352  0.051540   \n",
       "6639   Los Angeles    Santa Monica      6639  3371800 -0.000711 -0.002810   \n",
       "5158   Santa Clara       Palo Alto      5158  3352400 -0.003004  0.008119   \n",
       "5374   Santa Clara       Los Altos      5374  3298600 -0.007253 -0.018975   \n",
       "10229      Suffolk      Amagansett     10229  3037300  0.015310  0.107291   \n",
       "8856     San Mateo  Portola Valley      8856  3028400 -0.001944 -0.004994   \n",
       "\n",
       "            YoY     5Year    10Year PeakMonth PeakQuarter  PeakZHVI  \\\n",
       "9017   0.044674  0.137956  0.048933   2016-05     2016-Q2   6220800   \n",
       "4312   0.055772  0.111951  0.049578   2016-07     2016-Q3   5020100   \n",
       "9780   0.121624  0.059268       NaN   2016-09     2016-Q3   3497000   \n",
       "6639   0.051584  0.092347  0.028321   2016-06     2016-Q2   3381300   \n",
       "5158   0.062702  0.145896  0.083520   2016-08     2016-Q3   3362500   \n",
       "5374   0.001579  0.128623  0.056553   2016-03     2016-Q1   3403300   \n",
       "10229  0.078089  0.111135       NaN   2016-09     2016-Q3   3037300   \n",
       "8856   0.005412  0.097121  0.022587   2016-02     2016-Q1   3077100   \n",
       "\n",
       "       PctFallFromPeak LastTimeAtCurrZHVI  \n",
       "9017         -0.018133            2016-02  \n",
       "4312         -0.003366            2016-06  \n",
       "9780          0.000000            2016-09  \n",
       "6639         -0.002810            2016-05  \n",
       "5158         -0.003004            2016-07  \n",
       "5374         -0.030764            2015-10  \n",
       "10229         0.000000            2016-09  \n",
       "8856         -0.015827            2015-11  "
      ]
     },
     "execution_count": 62,
     "metadata": {},
     "output_type": "execute_result"
    }
   ],
   "source": [
    "df[df.Zhvi > 10 ** 6 * 3].sort_values('Zhvi', ascending=False) \n",
    "# Number of zipcodes with median house prices above $3 million "
   ]
  },
  {
   "cell_type": "markdown",
   "metadata": {},
   "source": [
    "### Menlo Park Rank"
   ]
  },
  {
   "cell_type": "code",
   "execution_count": 63,
   "metadata": {
    "collapsed": false
   },
   "outputs": [
    {
     "data": {
      "text/html": [
       "<div>\n",
       "<table border=\"1\" class=\"dataframe\">\n",
       "  <thead>\n",
       "    <tr style=\"text-align: right;\">\n",
       "      <th></th>\n",
       "      <th>Date</th>\n",
       "      <th>RegionID</th>\n",
       "      <th>RegionName</th>\n",
       "      <th>State</th>\n",
       "      <th>Metro</th>\n",
       "      <th>County</th>\n",
       "      <th>City</th>\n",
       "      <th>SizeRank</th>\n",
       "      <th>Zhvi</th>\n",
       "      <th>MoM</th>\n",
       "      <th>QoQ</th>\n",
       "      <th>YoY</th>\n",
       "      <th>5Year</th>\n",
       "      <th>10Year</th>\n",
       "      <th>PeakMonth</th>\n",
       "      <th>PeakQuarter</th>\n",
       "      <th>PeakZHVI</th>\n",
       "      <th>PctFallFromPeak</th>\n",
       "      <th>LastTimeAtCurrZHVI</th>\n",
       "    </tr>\n",
       "  </thead>\n",
       "  <tbody>\n",
       "    <tr>\n",
       "      <th>1492</th>\n",
       "      <td>2016-09-30</td>\n",
       "      <td>97516</td>\n",
       "      <td>94025</td>\n",
       "      <td>CA</td>\n",
       "      <td>San Francisco</td>\n",
       "      <td>San Mateo</td>\n",
       "      <td>Menlo Park</td>\n",
       "      <td>1492</td>\n",
       "      <td>1943600</td>\n",
       "      <td>-0.008873</td>\n",
       "      <td>-0.029752</td>\n",
       "      <td>-0.003231</td>\n",
       "      <td>0.135656</td>\n",
       "      <td>0.058209</td>\n",
       "      <td>2016-05</td>\n",
       "      <td>2016-Q2</td>\n",
       "      <td>2010700</td>\n",
       "      <td>-0.033371</td>\n",
       "      <td>2016-01</td>\n",
       "    </tr>\n",
       "  </tbody>\n",
       "</table>\n",
       "</div>"
      ],
      "text/plain": [
       "            Date  RegionID  RegionName State          Metro     County  \\\n",
       "1492  2016-09-30     97516       94025    CA  San Francisco  San Mateo   \n",
       "\n",
       "            City  SizeRank     Zhvi       MoM       QoQ       YoY     5Year  \\\n",
       "1492  Menlo Park      1492  1943600 -0.008873 -0.029752 -0.003231  0.135656   \n",
       "\n",
       "        10Year PeakMonth PeakQuarter  PeakZHVI  PctFallFromPeak  \\\n",
       "1492  0.058209   2016-05     2016-Q2   2010700        -0.033371   \n",
       "\n",
       "     LastTimeAtCurrZHVI  \n",
       "1492            2016-01  "
      ]
     },
     "execution_count": 63,
     "metadata": {},
     "output_type": "execute_result"
    }
   ],
   "source": [
    "df[df.RegionName == 94025]"
   ]
  },
  {
   "cell_type": "code",
   "execution_count": 64,
   "metadata": {
    "collapsed": false
   },
   "outputs": [
    {
     "data": {
      "text/plain": [
       "1208"
      ]
     },
     "execution_count": 64,
     "metadata": {},
     "output_type": "execute_result"
    }
   ],
   "source": [
    "len(df[df.State == 'CA']) # number of zipcodes in California"
   ]
  },
  {
   "cell_type": "code",
   "execution_count": 65,
   "metadata": {
    "collapsed": true
   },
   "outputs": [],
   "source": [
    "ca = df[df.State == 'CA']"
   ]
  },
  {
   "cell_type": "code",
   "execution_count": 66,
   "metadata": {
    "collapsed": false
   },
   "outputs": [
    {
     "data": {
      "text/html": [
       "<div>\n",
       "<table border=\"1\" class=\"dataframe\">\n",
       "  <thead>\n",
       "    <tr style=\"text-align: right;\">\n",
       "      <th></th>\n",
       "      <th>Date</th>\n",
       "      <th>RegionID</th>\n",
       "      <th>RegionName</th>\n",
       "      <th>State</th>\n",
       "      <th>Metro</th>\n",
       "      <th>County</th>\n",
       "      <th>City</th>\n",
       "      <th>SizeRank</th>\n",
       "      <th>Zhvi</th>\n",
       "      <th>MoM</th>\n",
       "      <th>QoQ</th>\n",
       "      <th>YoY</th>\n",
       "      <th>5Year</th>\n",
       "      <th>10Year</th>\n",
       "      <th>PeakMonth</th>\n",
       "      <th>PeakQuarter</th>\n",
       "      <th>PeakZHVI</th>\n",
       "      <th>PctFallFromPeak</th>\n",
       "      <th>LastTimeAtCurrZHVI</th>\n",
       "    </tr>\n",
       "  </thead>\n",
       "  <tbody>\n",
       "    <tr>\n",
       "      <th>9017</th>\n",
       "      <td>2016-09-30</td>\n",
       "      <td>97518</td>\n",
       "      <td>94027</td>\n",
       "      <td>CA</td>\n",
       "      <td>San Francisco</td>\n",
       "      <td>San Mateo</td>\n",
       "      <td>Atherton</td>\n",
       "      <td>9017</td>\n",
       "      <td>6108000</td>\n",
       "      <td>-0.002955</td>\n",
       "      <td>-0.013470</td>\n",
       "      <td>0.044674</td>\n",
       "      <td>0.137956</td>\n",
       "      <td>0.048933</td>\n",
       "      <td>2016-05</td>\n",
       "      <td>2016-Q2</td>\n",
       "      <td>6220800</td>\n",
       "      <td>-0.018133</td>\n",
       "      <td>2016-02</td>\n",
       "    </tr>\n",
       "    <tr>\n",
       "      <th>4312</th>\n",
       "      <td>2016-09-30</td>\n",
       "      <td>96086</td>\n",
       "      <td>90210</td>\n",
       "      <td>CA</td>\n",
       "      <td>Los Angeles-Long Beach-Anaheim</td>\n",
       "      <td>Los Angeles</td>\n",
       "      <td>Beverly Hills</td>\n",
       "      <td>4312</td>\n",
       "      <td>5003200</td>\n",
       "      <td>-0.001457</td>\n",
       "      <td>-0.000779</td>\n",
       "      <td>0.055772</td>\n",
       "      <td>0.111951</td>\n",
       "      <td>0.049578</td>\n",
       "      <td>2016-07</td>\n",
       "      <td>2016-Q3</td>\n",
       "      <td>5020100</td>\n",
       "      <td>-0.003366</td>\n",
       "      <td>2016-06</td>\n",
       "    </tr>\n",
       "    <tr>\n",
       "      <th>6639</th>\n",
       "      <td>2016-09-30</td>\n",
       "      <td>96149</td>\n",
       "      <td>90402</td>\n",
       "      <td>CA</td>\n",
       "      <td>Los Angeles-Long Beach-Anaheim</td>\n",
       "      <td>Los Angeles</td>\n",
       "      <td>Santa Monica</td>\n",
       "      <td>6639</td>\n",
       "      <td>3371800</td>\n",
       "      <td>-0.000711</td>\n",
       "      <td>-0.002810</td>\n",
       "      <td>0.051584</td>\n",
       "      <td>0.092347</td>\n",
       "      <td>0.028321</td>\n",
       "      <td>2016-06</td>\n",
       "      <td>2016-Q2</td>\n",
       "      <td>3381300</td>\n",
       "      <td>-0.002810</td>\n",
       "      <td>2016-05</td>\n",
       "    </tr>\n",
       "    <tr>\n",
       "      <th>5158</th>\n",
       "      <td>2016-09-30</td>\n",
       "      <td>97691</td>\n",
       "      <td>94301</td>\n",
       "      <td>CA</td>\n",
       "      <td>San Jose</td>\n",
       "      <td>Santa Clara</td>\n",
       "      <td>Palo Alto</td>\n",
       "      <td>5158</td>\n",
       "      <td>3352400</td>\n",
       "      <td>-0.003004</td>\n",
       "      <td>0.008119</td>\n",
       "      <td>0.062702</td>\n",
       "      <td>0.145896</td>\n",
       "      <td>0.083520</td>\n",
       "      <td>2016-08</td>\n",
       "      <td>2016-Q3</td>\n",
       "      <td>3362500</td>\n",
       "      <td>-0.003004</td>\n",
       "      <td>2016-07</td>\n",
       "    </tr>\n",
       "    <tr>\n",
       "      <th>5374</th>\n",
       "      <td>2016-09-30</td>\n",
       "      <td>97513</td>\n",
       "      <td>94022</td>\n",
       "      <td>CA</td>\n",
       "      <td>San Jose</td>\n",
       "      <td>Santa Clara</td>\n",
       "      <td>Los Altos</td>\n",
       "      <td>5374</td>\n",
       "      <td>3298600</td>\n",
       "      <td>-0.007253</td>\n",
       "      <td>-0.018975</td>\n",
       "      <td>0.001579</td>\n",
       "      <td>0.128623</td>\n",
       "      <td>0.056553</td>\n",
       "      <td>2016-03</td>\n",
       "      <td>2016-Q1</td>\n",
       "      <td>3403300</td>\n",
       "      <td>-0.030764</td>\n",
       "      <td>2015-10</td>\n",
       "    </tr>\n",
       "  </tbody>\n",
       "</table>\n",
       "</div>"
      ],
      "text/plain": [
       "            Date  RegionID  RegionName State                           Metro  \\\n",
       "9017  2016-09-30     97518       94027    CA                   San Francisco   \n",
       "4312  2016-09-30     96086       90210    CA  Los Angeles-Long Beach-Anaheim   \n",
       "6639  2016-09-30     96149       90402    CA  Los Angeles-Long Beach-Anaheim   \n",
       "5158  2016-09-30     97691       94301    CA                        San Jose   \n",
       "5374  2016-09-30     97513       94022    CA                        San Jose   \n",
       "\n",
       "           County           City  SizeRank     Zhvi       MoM       QoQ  \\\n",
       "9017    San Mateo       Atherton      9017  6108000 -0.002955 -0.013470   \n",
       "4312  Los Angeles  Beverly Hills      4312  5003200 -0.001457 -0.000779   \n",
       "6639  Los Angeles   Santa Monica      6639  3371800 -0.000711 -0.002810   \n",
       "5158  Santa Clara      Palo Alto      5158  3352400 -0.003004  0.008119   \n",
       "5374  Santa Clara      Los Altos      5374  3298600 -0.007253 -0.018975   \n",
       "\n",
       "           YoY     5Year    10Year PeakMonth PeakQuarter  PeakZHVI  \\\n",
       "9017  0.044674  0.137956  0.048933   2016-05     2016-Q2   6220800   \n",
       "4312  0.055772  0.111951  0.049578   2016-07     2016-Q3   5020100   \n",
       "6639  0.051584  0.092347  0.028321   2016-06     2016-Q2   3381300   \n",
       "5158  0.062702  0.145896  0.083520   2016-08     2016-Q3   3362500   \n",
       "5374  0.001579  0.128623  0.056553   2016-03     2016-Q1   3403300   \n",
       "\n",
       "      PctFallFromPeak LastTimeAtCurrZHVI  \n",
       "9017        -0.018133            2016-02  \n",
       "4312        -0.003366            2016-06  \n",
       "6639        -0.002810            2016-05  \n",
       "5158        -0.003004            2016-07  \n",
       "5374        -0.030764            2015-10  "
      ]
     },
     "execution_count": 66,
     "metadata": {},
     "output_type": "execute_result"
    }
   ],
   "source": [
    "ca.sort_values('Zhvi', ascending=False)[:5]"
   ]
  },
  {
   "cell_type": "markdown",
   "metadata": {},
   "source": [
    "#### Number of unique cities and zipcodes in the U.S. for this dataset"
   ]
  },
  {
   "cell_type": "code",
   "execution_count": 67,
   "metadata": {
    "collapsed": false
   },
   "outputs": [
    {
     "name": "stdout",
     "output_type": "stream",
     "text": [
      "Unique zipcodes: 12481\n",
      "Unique cities: 6559\n"
     ]
    }
   ],
   "source": [
    "print 'Unique zipcodes:', len(df.RegionName.unique())\n",
    "print 'Unique cities:', len(df.City.unique())"
   ]
  },
  {
   "cell_type": "markdown",
   "metadata": {},
   "source": [
    "#### Descriptive statistics for Oklahoma"
   ]
  },
  {
   "cell_type": "code",
   "execution_count": 39,
   "metadata": {
    "collapsed": false
   },
   "outputs": [
    {
     "name": "stdout",
     "output_type": "stream",
     "text": [
      "Number of zipcodes in Oklahoma: 68\n"
     ]
    }
   ],
   "source": [
    "ok = df[df.State == 'OK']\n",
    "print 'Number of zipcodes in Oklahoma:', len(ok)"
   ]
  },
  {
   "cell_type": "code",
   "execution_count": 40,
   "metadata": {
    "collapsed": false
   },
   "outputs": [
    {
     "name": "stdout",
     "output_type": "stream",
     "text": [
      "Zipcodes with lowest median housing price: 73860, 74126, 74115, 73005, 74106, 74130, 74127, 74003, 74653, 73701\n"
     ]
    }
   ],
   "source": [
    "ok_chart = ok.sort_values('Zhvi')[:10]\n",
    "zipcodes = ok_chart.RegionName.values[:10]\n",
    "print 'Zipcodes with lowest median housing price:', ', '.join(map(str, zipcodes))"
   ]
  },
  {
   "cell_type": "code",
   "execution_count": 227,
   "metadata": {
    "collapsed": false
   },
   "outputs": [
    {
     "data": {
      "image/png": "[encoded data removed]",
      "text/plain": [
       "<matplotlib.figure.Figure at 0x11a972550>"
      ]
     },
     "metadata": {},
     "output_type": "display_data"
    }
   ],
   "source": [
    "plt.title('Low Value Oklahoma Zipcodes')\n",
    "plt.xlabel('Zipcode')\n",
    "plt.ylabel('Median Price')\n",
    "plt.bar(range(10), ok_chart.Zhvi.values, tick_label= ok_chart.RegionName.values[:10], \n",
    "        align='center', alpha=0.7, color='pink')\n",
    "plt.show()"
   ]
  },
  {
   "cell_type": "code",
   "execution_count": 45,
   "metadata": {
    "collapsed": false
   },
   "outputs": [
    {
     "name": "stdout",
     "output_type": "stream",
     "text": [
      "Cities: Waynoka, Tulsa, Tulsa, Anadarko, Tulsa, Tulsa, Tulsa, Bartlesville, Tonkawa, Enid\n"
     ]
    }
   ],
   "source": [
    "ok_info = ok_chart.City.values\n",
    "print 'Cities:', ', '.join(ok_info)"
   ]
  },
  {
   "cell_type": "code",
   "execution_count": 46,
   "metadata": {
    "collapsed": false,
    "scrolled": true
   },
   "outputs": [
    {
     "name": "stdout",
     "output_type": "stream",
     "text": [
      "Median prices: 43200, 50300, 55700, 57400, 57500, 59700, 64700, 66300, 69200, 70200\n"
     ]
    }
   ],
   "source": [
    "ok_values = ok_chart.Zhvi.values\n",
    "print 'Median prices:', ', '.join(map(str, ok_values))"
   ]
  },
  {
   "cell_type": "markdown",
   "metadata": {},
   "source": [
    "#### Distribution of zip codes by state"
   ]
  },
  {
   "cell_type": "code",
   "execution_count": 47,
   "metadata": {
    "collapsed": false
   },
   "outputs": [
    {
     "data": {
      "image/png": "[encoded data removed]",
      "text/plain": [
       "<matplotlib.figure.Figure at 0x11a7b8090>"
      ]
     },
     "metadata": {},
     "output_type": "display_data"
    }
   ],
   "source": [
    "plt.title('Bar Chart')\n",
    "plt.ylabel('Number of Zipcodes')\n",
    "plt.xlabel('State')\n",
    "df.State.value_counts().plot(kind='bar', alpha=0.4, color='green')\n",
    "plt.show()"
   ]
  },
  {
   "cell_type": "code",
   "execution_count": 48,
   "metadata": {
    "collapsed": false
   },
   "outputs": [
    {
     "data": {
      "image/png": "[encoded data removed]",
      "text/plain": [
       "<matplotlib.figure.Figure at 0x11af08f10>"
      ]
     },
     "metadata": {},
     "output_type": "display_data"
    }
   ],
   "source": [
    "data = df.groupby('State').agg({'Zhvi': np.mean}).sort_values('Zhvi', ascending=False)\n",
    "data.plot(kind='bar', alpha=0.4, color='purple');"
   ]
  },
  {
   "cell_type": "markdown",
   "metadata": {},
   "source": [
    "#### Shows the 3 states with the lowest average median housing prices "
   ]
  },
  {
   "cell_type": "code",
   "execution_count": 49,
   "metadata": {
    "collapsed": false
   },
   "outputs": [
    {
     "data": {
      "text/html": [
       "<div>\n",
       "<table border=\"1\" class=\"dataframe\">\n",
       "  <thead>\n",
       "    <tr style=\"text-align: right;\">\n",
       "      <th></th>\n",
       "      <th>Zhvi</th>\n",
       "    </tr>\n",
       "    <tr>\n",
       "      <th>State</th>\n",
       "      <th></th>\n",
       "    </tr>\n",
       "  </thead>\n",
       "  <tbody>\n",
       "    <tr>\n",
       "      <th>MI</th>\n",
       "      <td>31300</td>\n",
       "    </tr>\n",
       "    <tr>\n",
       "      <th>MO</th>\n",
       "      <td>33000</td>\n",
       "    </tr>\n",
       "    <tr>\n",
       "      <th>AL</th>\n",
       "      <td>33400</td>\n",
       "    </tr>\n",
       "  </tbody>\n",
       "</table>\n",
       "</div>"
      ],
      "text/plain": [
       "        Zhvi\n",
       "State       \n",
       "MI     31300\n",
       "MO     33000\n",
       "AL     33400"
      ]
     },
     "execution_count": 49,
     "metadata": {},
     "output_type": "execute_result"
    }
   ],
   "source": [
    "df.groupby('State')[['Zhvi']].apply(np.min).sort_values('Zhvi')[:3]"
   ]
  },
  {
   "cell_type": "markdown",
   "metadata": {},
   "source": [
    "#### Shows the average, median, and standard deviation of the housing prices in each state and the number of cities"
   ]
  },
  {
   "cell_type": "code",
   "execution_count": 50,
   "metadata": {
    "collapsed": false
   },
   "outputs": [
    {
     "data": {
      "text/html": [
       "<div>\n",
       "<table border=\"1\" class=\"dataframe\">\n",
       "  <thead>\n",
       "    <tr>\n",
       "      <th></th>\n",
       "      <th colspan=\"3\" halign=\"left\">Zhvi</th>\n",
       "      <th>City</th>\n",
       "    </tr>\n",
       "    <tr>\n",
       "      <th></th>\n",
       "      <th>mean</th>\n",
       "      <th>median</th>\n",
       "      <th>std</th>\n",
       "      <th>len</th>\n",
       "    </tr>\n",
       "    <tr>\n",
       "      <th>State</th>\n",
       "      <th></th>\n",
       "      <th></th>\n",
       "      <th></th>\n",
       "      <th></th>\n",
       "    </tr>\n",
       "  </thead>\n",
       "  <tbody>\n",
       "    <tr>\n",
       "      <th>AK</th>\n",
       "      <td>259954</td>\n",
       "      <td>243900</td>\n",
       "      <td>59860.685938</td>\n",
       "      <td>24</td>\n",
       "    </tr>\n",
       "    <tr>\n",
       "      <th>AL</th>\n",
       "      <td>129932</td>\n",
       "      <td>123100</td>\n",
       "      <td>73842.515840</td>\n",
       "      <td>147</td>\n",
       "    </tr>\n",
       "    <tr>\n",
       "      <th>AR</th>\n",
       "      <td>137511</td>\n",
       "      <td>135200</td>\n",
       "      <td>45720.549045</td>\n",
       "      <td>88</td>\n",
       "    </tr>\n",
       "    <tr>\n",
       "      <th>AZ</th>\n",
       "      <td>230155</td>\n",
       "      <td>206000</td>\n",
       "      <td>131036.707658</td>\n",
       "      <td>237</td>\n",
       "    </tr>\n",
       "    <tr>\n",
       "      <th>CA</th>\n",
       "      <td>596997</td>\n",
       "      <td>480350</td>\n",
       "      <td>489638.245066</td>\n",
       "      <td>1208</td>\n",
       "    </tr>\n",
       "    <tr>\n",
       "      <th>CO</th>\n",
       "      <td>324934</td>\n",
       "      <td>299900</td>\n",
       "      <td>131356.474166</td>\n",
       "      <td>252</td>\n",
       "    </tr>\n",
       "    <tr>\n",
       "      <th>CT</th>\n",
       "      <td>298295</td>\n",
       "      <td>237000</td>\n",
       "      <td>232528.006546</td>\n",
       "      <td>245</td>\n",
       "    </tr>\n",
       "    <tr>\n",
       "      <th>DC</th>\n",
       "      <td>560552</td>\n",
       "      <td>526100</td>\n",
       "      <td>216055.489676</td>\n",
       "      <td>21</td>\n",
       "    </tr>\n",
       "    <tr>\n",
       "      <th>DE</th>\n",
       "      <td>222909</td>\n",
       "      <td>187700</td>\n",
       "      <td>116196.811072</td>\n",
       "      <td>31</td>\n",
       "    </tr>\n",
       "    <tr>\n",
       "      <th>FL</th>\n",
       "      <td>216938</td>\n",
       "      <td>182600</td>\n",
       "      <td>128689.195095</td>\n",
       "      <td>815</td>\n",
       "    </tr>\n",
       "    <tr>\n",
       "      <th>GA</th>\n",
       "      <td>164737</td>\n",
       "      <td>137750</td>\n",
       "      <td>98766.927937</td>\n",
       "      <td>352</td>\n",
       "    </tr>\n",
       "    <tr>\n",
       "      <th>HI</th>\n",
       "      <td>574806</td>\n",
       "      <td>576500</td>\n",
       "      <td>223830.038101</td>\n",
       "      <td>61</td>\n",
       "    </tr>\n",
       "    <tr>\n",
       "      <th>IA</th>\n",
       "      <td>173442</td>\n",
       "      <td>170500</td>\n",
       "      <td>55810.188354</td>\n",
       "      <td>57</td>\n",
       "    </tr>\n",
       "    <tr>\n",
       "      <th>ID</th>\n",
       "      <td>185592</td>\n",
       "      <td>164200</td>\n",
       "      <td>57821.749326</td>\n",
       "      <td>41</td>\n",
       "    </tr>\n",
       "    <tr>\n",
       "      <th>IL</th>\n",
       "      <td>198798</td>\n",
       "      <td>169000</td>\n",
       "      <td>135180.841751</td>\n",
       "      <td>448</td>\n",
       "    </tr>\n",
       "    <tr>\n",
       "      <th>IN</th>\n",
       "      <td>112702</td>\n",
       "      <td>103000</td>\n",
       "      <td>45231.105080</td>\n",
       "      <td>485</td>\n",
       "    </tr>\n",
       "    <tr>\n",
       "      <th>KS</th>\n",
       "      <td>177647</td>\n",
       "      <td>156000</td>\n",
       "      <td>92752.559064</td>\n",
       "      <td>99</td>\n",
       "    </tr>\n",
       "    <tr>\n",
       "      <th>KY</th>\n",
       "      <td>158747</td>\n",
       "      <td>142600</td>\n",
       "      <td>66118.542265</td>\n",
       "      <td>91</td>\n",
       "    </tr>\n",
       "    <tr>\n",
       "      <th>LA</th>\n",
       "      <td>158151</td>\n",
       "      <td>148700</td>\n",
       "      <td>67866.500453</td>\n",
       "      <td>192</td>\n",
       "    </tr>\n",
       "    <tr>\n",
       "      <th>MA</th>\n",
       "      <td>390916</td>\n",
       "      <td>332350</td>\n",
       "      <td>215147.483634</td>\n",
       "      <td>450</td>\n",
       "    </tr>\n",
       "    <tr>\n",
       "      <th>MD</th>\n",
       "      <td>305962</td>\n",
       "      <td>286150</td>\n",
       "      <td>148058.645654</td>\n",
       "      <td>314</td>\n",
       "    </tr>\n",
       "    <tr>\n",
       "      <th>ME</th>\n",
       "      <td>63300</td>\n",
       "      <td>63300</td>\n",
       "      <td>16122.034611</td>\n",
       "      <td>2</td>\n",
       "    </tr>\n",
       "    <tr>\n",
       "      <th>MI</th>\n",
       "      <td>154465</td>\n",
       "      <td>140400</td>\n",
       "      <td>78039.839259</td>\n",
       "      <td>438</td>\n",
       "    </tr>\n",
       "    <tr>\n",
       "      <th>MN</th>\n",
       "      <td>240682</td>\n",
       "      <td>228100</td>\n",
       "      <td>91038.539261</td>\n",
       "      <td>176</td>\n",
       "    </tr>\n",
       "    <tr>\n",
       "      <th>MO</th>\n",
       "      <td>157115</td>\n",
       "      <td>139700</td>\n",
       "      <td>97439.336086</td>\n",
       "      <td>221</td>\n",
       "    </tr>\n",
       "    <tr>\n",
       "      <th>MS</th>\n",
       "      <td>112240</td>\n",
       "      <td>108300</td>\n",
       "      <td>35877.143913</td>\n",
       "      <td>115</td>\n",
       "    </tr>\n",
       "    <tr>\n",
       "      <th>MT</th>\n",
       "      <td>221344</td>\n",
       "      <td>230500</td>\n",
       "      <td>50574.273890</td>\n",
       "      <td>27</td>\n",
       "    </tr>\n",
       "    <tr>\n",
       "      <th>NC</th>\n",
       "      <td>185542</td>\n",
       "      <td>157500</td>\n",
       "      <td>93697.107635</td>\n",
       "      <td>312</td>\n",
       "    </tr>\n",
       "    <tr>\n",
       "      <th>ND</th>\n",
       "      <td>197507</td>\n",
       "      <td>209050</td>\n",
       "      <td>69689.116955</td>\n",
       "      <td>14</td>\n",
       "    </tr>\n",
       "    <tr>\n",
       "      <th>NE</th>\n",
       "      <td>164656</td>\n",
       "      <td>151800</td>\n",
       "      <td>62374.050642</td>\n",
       "      <td>66</td>\n",
       "    </tr>\n",
       "    <tr>\n",
       "      <th>NH</th>\n",
       "      <td>228815</td>\n",
       "      <td>221100</td>\n",
       "      <td>81454.158288</td>\n",
       "      <td>196</td>\n",
       "    </tr>\n",
       "    <tr>\n",
       "      <th>NJ</th>\n",
       "      <td>356443</td>\n",
       "      <td>306650</td>\n",
       "      <td>236181.401918</td>\n",
       "      <td>452</td>\n",
       "    </tr>\n",
       "    <tr>\n",
       "      <th>NM</th>\n",
       "      <td>210527</td>\n",
       "      <td>174900</td>\n",
       "      <td>115406.187870</td>\n",
       "      <td>40</td>\n",
       "    </tr>\n",
       "    <tr>\n",
       "      <th>NV</th>\n",
       "      <td>254791</td>\n",
       "      <td>231300</td>\n",
       "      <td>113988.528201</td>\n",
       "      <td>96</td>\n",
       "    </tr>\n",
       "    <tr>\n",
       "      <th>NY</th>\n",
       "      <td>311689</td>\n",
       "      <td>184300</td>\n",
       "      <td>336667.365710</td>\n",
       "      <td>962</td>\n",
       "    </tr>\n",
       "    <tr>\n",
       "      <th>OH</th>\n",
       "      <td>127478</td>\n",
       "      <td>120900</td>\n",
       "      <td>53117.508919</td>\n",
       "      <td>373</td>\n",
       "    </tr>\n",
       "    <tr>\n",
       "      <th>OK</th>\n",
       "      <td>115491</td>\n",
       "      <td>111700</td>\n",
       "      <td>40957.822263</td>\n",
       "      <td>68</td>\n",
       "    </tr>\n",
       "    <tr>\n",
       "      <th>OR</th>\n",
       "      <td>282585</td>\n",
       "      <td>260050</td>\n",
       "      <td>119516.035791</td>\n",
       "      <td>206</td>\n",
       "    </tr>\n",
       "    <tr>\n",
       "      <th>PA</th>\n",
       "      <td>176588</td>\n",
       "      <td>152600</td>\n",
       "      <td>102857.874424</td>\n",
       "      <td>771</td>\n",
       "    </tr>\n",
       "    <tr>\n",
       "      <th>RI</th>\n",
       "      <td>269236</td>\n",
       "      <td>254600</td>\n",
       "      <td>118704.182786</td>\n",
       "      <td>61</td>\n",
       "    </tr>\n",
       "    <tr>\n",
       "      <th>SC</th>\n",
       "      <td>174767</td>\n",
       "      <td>140500</td>\n",
       "      <td>155046.282849</td>\n",
       "      <td>174</td>\n",
       "    </tr>\n",
       "    <tr>\n",
       "      <th>SD</th>\n",
       "      <td>83900</td>\n",
       "      <td>83900</td>\n",
       "      <td>NaN</td>\n",
       "      <td>1</td>\n",
       "    </tr>\n",
       "    <tr>\n",
       "      <th>TN</th>\n",
       "      <td>143001</td>\n",
       "      <td>124450</td>\n",
       "      <td>80949.826714</td>\n",
       "      <td>408</td>\n",
       "    </tr>\n",
       "    <tr>\n",
       "      <th>TX</th>\n",
       "      <td>192719</td>\n",
       "      <td>155400</td>\n",
       "      <td>136135.018166</td>\n",
       "      <td>598</td>\n",
       "    </tr>\n",
       "    <tr>\n",
       "      <th>UT</th>\n",
       "      <td>263751</td>\n",
       "      <td>243100</td>\n",
       "      <td>107250.594815</td>\n",
       "      <td>83</td>\n",
       "    </tr>\n",
       "    <tr>\n",
       "      <th>VA</th>\n",
       "      <td>315939</td>\n",
       "      <td>270100</td>\n",
       "      <td>168183.299588</td>\n",
       "      <td>276</td>\n",
       "    </tr>\n",
       "    <tr>\n",
       "      <th>VT</th>\n",
       "      <td>216078</td>\n",
       "      <td>195800</td>\n",
       "      <td>66184.597763</td>\n",
       "      <td>84</td>\n",
       "    </tr>\n",
       "    <tr>\n",
       "      <th>WA</th>\n",
       "      <td>340455</td>\n",
       "      <td>298400</td>\n",
       "      <td>208927.636979</td>\n",
       "      <td>306</td>\n",
       "    </tr>\n",
       "    <tr>\n",
       "      <th>WI</th>\n",
       "      <td>186056</td>\n",
       "      <td>171400</td>\n",
       "      <td>67707.321225</td>\n",
       "      <td>269</td>\n",
       "    </tr>\n",
       "    <tr>\n",
       "      <th>WV</th>\n",
       "      <td>103565</td>\n",
       "      <td>105450</td>\n",
       "      <td>27945.101727</td>\n",
       "      <td>20</td>\n",
       "    </tr>\n",
       "    <tr>\n",
       "      <th>WY</th>\n",
       "      <td>194875</td>\n",
       "      <td>186350</td>\n",
       "      <td>32585.612513</td>\n",
       "      <td>8</td>\n",
       "    </tr>\n",
       "  </tbody>\n",
       "</table>\n",
       "</div>"
      ],
      "text/plain": [
       "         Zhvi                         City\n",
       "         mean  median            std   len\n",
       "State                                     \n",
       "AK     259954  243900   59860.685938    24\n",
       "AL     129932  123100   73842.515840   147\n",
       "AR     137511  135200   45720.549045    88\n",
       "AZ     230155  206000  131036.707658   237\n",
       "CA     596997  480350  489638.245066  1208\n",
       "CO     324934  299900  131356.474166   252\n",
       "CT     298295  237000  232528.006546   245\n",
       "DC     560552  526100  216055.489676    21\n",
       "DE     222909  187700  116196.811072    31\n",
       "FL     216938  182600  128689.195095   815\n",
       "GA     164737  137750   98766.927937   352\n",
       "HI     574806  576500  223830.038101    61\n",
       "IA     173442  170500   55810.188354    57\n",
       "ID     185592  164200   57821.749326    41\n",
       "IL     198798  169000  135180.841751   448\n",
       "IN     112702  103000   45231.105080   485\n",
       "KS     177647  156000   92752.559064    99\n",
       "KY     158747  142600   66118.542265    91\n",
       "LA     158151  148700   67866.500453   192\n",
       "MA     390916  332350  215147.483634   450\n",
       "MD     305962  286150  148058.645654   314\n",
       "ME      63300   63300   16122.034611     2\n",
       "MI     154465  140400   78039.839259   438\n",
       "MN     240682  228100   91038.539261   176\n",
       "MO     157115  139700   97439.336086   221\n",
       "MS     112240  108300   35877.143913   115\n",
       "MT     221344  230500   50574.273890    27\n",
       "NC     185542  157500   93697.107635   312\n",
       "ND     197507  209050   69689.116955    14\n",
       "NE     164656  151800   62374.050642    66\n",
       "NH     228815  221100   81454.158288   196\n",
       "NJ     356443  306650  236181.401918   452\n",
       "NM     210527  174900  115406.187870    40\n",
       "NV     254791  231300  113988.528201    96\n",
       "NY     311689  184300  336667.365710   962\n",
       "OH     127478  120900   53117.508919   373\n",
       "OK     115491  111700   40957.822263    68\n",
       "OR     282585  260050  119516.035791   206\n",
       "PA     176588  152600  102857.874424   771\n",
       "RI     269236  254600  118704.182786    61\n",
       "SC     174767  140500  155046.282849   174\n",
       "SD      83900   83900            NaN     1\n",
       "TN     143001  124450   80949.826714   408\n",
       "TX     192719  155400  136135.018166   598\n",
       "UT     263751  243100  107250.594815    83\n",
       "VA     315939  270100  168183.299588   276\n",
       "VT     216078  195800   66184.597763    84\n",
       "WA     340455  298400  208927.636979   306\n",
       "WI     186056  171400   67707.321225   269\n",
       "WV     103565  105450   27945.101727    20\n",
       "WY     194875  186350   32585.612513     8"
      ]
     },
     "execution_count": 50,
     "metadata": {},
     "output_type": "execute_result"
    }
   ],
   "source": [
    "df.groupby('State').agg({'Zhvi': [np.mean, np.median, np.std], 'City': len})"
   ]
  },
  {
   "cell_type": "markdown",
   "metadata": {},
   "source": [
    "#### Shows the five fastest appreciating zipcodes in the last 5 years"
   ]
  },
  {
   "cell_type": "code",
   "execution_count": 51,
   "metadata": {
    "collapsed": false
   },
   "outputs": [
    {
     "data": {
      "text/html": [
       "<div>\n",
       "<table border=\"1\" class=\"dataframe\">\n",
       "  <thead>\n",
       "    <tr style=\"text-align: right;\">\n",
       "      <th></th>\n",
       "      <th>City</th>\n",
       "      <th>State</th>\n",
       "      <th>Zhvi</th>\n",
       "      <th>5Year</th>\n",
       "    </tr>\n",
       "  </thead>\n",
       "  <tbody>\n",
       "    <tr>\n",
       "      <th>1879</th>\n",
       "      <td>Phoenix</td>\n",
       "      <td>AZ</td>\n",
       "      <td>133400</td>\n",
       "      <td>0.216850</td>\n",
       "    </tr>\n",
       "    <tr>\n",
       "      <th>1515</th>\n",
       "      <td>Phoenix</td>\n",
       "      <td>AZ</td>\n",
       "      <td>138400</td>\n",
       "      <td>0.214398</td>\n",
       "    </tr>\n",
       "    <tr>\n",
       "      <th>3915</th>\n",
       "      <td>Reno</td>\n",
       "      <td>NV</td>\n",
       "      <td>165800</td>\n",
       "      <td>0.212756</td>\n",
       "    </tr>\n",
       "    <tr>\n",
       "      <th>5174</th>\n",
       "      <td>Phoenix</td>\n",
       "      <td>AZ</td>\n",
       "      <td>140800</td>\n",
       "      <td>0.202494</td>\n",
       "    </tr>\n",
       "    <tr>\n",
       "      <th>1667</th>\n",
       "      <td>Richmond</td>\n",
       "      <td>CA</td>\n",
       "      <td>380600</td>\n",
       "      <td>0.198522</td>\n",
       "    </tr>\n",
       "  </tbody>\n",
       "</table>\n",
       "</div>"
      ],
      "text/plain": [
       "          City State    Zhvi     5Year\n",
       "1879   Phoenix    AZ  133400  0.216850\n",
       "1515   Phoenix    AZ  138400  0.214398\n",
       "3915      Reno    NV  165800  0.212756\n",
       "5174   Phoenix    AZ  140800  0.202494\n",
       "1667  Richmond    CA  380600  0.198522"
      ]
     },
     "execution_count": 51,
     "metadata": {},
     "output_type": "execute_result"
    }
   ],
   "source": [
    "df.sort_values('5Year', ascending=False)[['City', 'State', 'Zhvi', '5Year']][:5]"
   ]
  },
  {
   "cell_type": "markdown",
   "metadata": {},
   "source": [
    "#### Shows the five fastest  year over year growing zipcodes"
   ]
  },
  {
   "cell_type": "code",
   "execution_count": 52,
   "metadata": {
    "collapsed": false
   },
   "outputs": [
    {
     "data": {
      "text/html": [
       "<div>\n",
       "<table border=\"1\" class=\"dataframe\">\n",
       "  <thead>\n",
       "    <tr style=\"text-align: right;\">\n",
       "      <th></th>\n",
       "      <th>City</th>\n",
       "      <th>State</th>\n",
       "      <th>Zhvi</th>\n",
       "      <th>YoY</th>\n",
       "    </tr>\n",
       "  </thead>\n",
       "  <tbody>\n",
       "    <tr>\n",
       "      <th>6019</th>\n",
       "      <td>Middlesborough</td>\n",
       "      <td>KY</td>\n",
       "      <td>87500</td>\n",
       "      <td>0.488095</td>\n",
       "    </tr>\n",
       "    <tr>\n",
       "      <th>9535</th>\n",
       "      <td>Montezuma</td>\n",
       "      <td>GA</td>\n",
       "      <td>72300</td>\n",
       "      <td>0.446000</td>\n",
       "    </tr>\n",
       "    <tr>\n",
       "      <th>7204</th>\n",
       "      <td>Wise</td>\n",
       "      <td>VA</td>\n",
       "      <td>142400</td>\n",
       "      <td>0.445685</td>\n",
       "    </tr>\n",
       "    <tr>\n",
       "      <th>2615</th>\n",
       "      <td>Laguna Beach</td>\n",
       "      <td>CA</td>\n",
       "      <td>2170200</td>\n",
       "      <td>0.419173</td>\n",
       "    </tr>\n",
       "    <tr>\n",
       "      <th>9251</th>\n",
       "      <td>Homerville</td>\n",
       "      <td>GA</td>\n",
       "      <td>86700</td>\n",
       "      <td>0.418985</td>\n",
       "    </tr>\n",
       "  </tbody>\n",
       "</table>\n",
       "</div>"
      ],
      "text/plain": [
       "                City State     Zhvi       YoY\n",
       "6019  Middlesborough    KY    87500  0.488095\n",
       "9535       Montezuma    GA    72300  0.446000\n",
       "7204            Wise    VA   142400  0.445685\n",
       "2615    Laguna Beach    CA  2170200  0.419173\n",
       "9251      Homerville    GA    86700  0.418985"
      ]
     },
     "execution_count": 52,
     "metadata": {},
     "output_type": "execute_result"
    }
   ],
   "source": [
    "df.sort_values('YoY', ascending=False)[['City', 'State', 'Zhvi', 'YoY']][:5]"
   ]
  },
  {
   "cell_type": "markdown",
   "metadata": {},
   "source": [
    "#### Shows the metropolitan areas with the highest median housing prices "
   ]
  },
  {
   "cell_type": "code",
   "execution_count": 53,
   "metadata": {
    "collapsed": false
   },
   "outputs": [
    {
     "data": {
      "text/html": [
       "<div>\n",
       "<table border=\"1\" class=\"dataframe\">\n",
       "  <thead>\n",
       "    <tr style=\"text-align: right;\">\n",
       "      <th></th>\n",
       "      <th>Zhvi</th>\n",
       "    </tr>\n",
       "    <tr>\n",
       "      <th>Metro</th>\n",
       "      <th></th>\n",
       "    </tr>\n",
       "  </thead>\n",
       "  <tbody>\n",
       "    <tr>\n",
       "      <th>San Jose</th>\n",
       "      <td>1.201222e+06</td>\n",
       "    </tr>\n",
       "    <tr>\n",
       "      <th>San Francisco</th>\n",
       "      <td>1.004223e+06</td>\n",
       "    </tr>\n",
       "    <tr>\n",
       "      <th>Santa Maria-Santa Barbara</th>\n",
       "      <td>8.500882e+05</td>\n",
       "    </tr>\n",
       "    <tr>\n",
       "      <th>Vineyard Haven</th>\n",
       "      <td>8.077400e+05</td>\n",
       "    </tr>\n",
       "    <tr>\n",
       "      <th>Summit Park</th>\n",
       "      <td>7.531500e+05</td>\n",
       "    </tr>\n",
       "    <tr>\n",
       "      <th>Los Angeles-Long Beach-Anaheim</th>\n",
       "      <td>7.167200e+05</td>\n",
       "    </tr>\n",
       "    <tr>\n",
       "      <th>Salinas</th>\n",
       "      <td>6.815882e+05</td>\n",
       "    </tr>\n",
       "    <tr>\n",
       "      <th>Napa</th>\n",
       "      <td>6.807667e+05</td>\n",
       "    </tr>\n",
       "    <tr>\n",
       "      <th>Santa Cruz</th>\n",
       "      <td>6.747667e+05</td>\n",
       "    </tr>\n",
       "    <tr>\n",
       "      <th>Urban Honolulu</th>\n",
       "      <td>6.714071e+05</td>\n",
       "    </tr>\n",
       "  </tbody>\n",
       "</table>\n",
       "</div>"
      ],
      "text/plain": [
       "                                        Zhvi\n",
       "Metro                                       \n",
       "San Jose                        1.201222e+06\n",
       "San Francisco                   1.004223e+06\n",
       "Santa Maria-Santa Barbara       8.500882e+05\n",
       "Vineyard Haven                  8.077400e+05\n",
       "Summit Park                     7.531500e+05\n",
       "Los Angeles-Long Beach-Anaheim  7.167200e+05\n",
       "Salinas                         6.815882e+05\n",
       "Napa                            6.807667e+05\n",
       "Santa Cruz                      6.747667e+05\n",
       "Urban Honolulu                  6.714071e+05"
      ]
     },
     "execution_count": 53,
     "metadata": {},
     "output_type": "execute_result"
    }
   ],
   "source": [
    "df.groupby('Metro').agg({'Zhvi': np.mean}).sort_values('Zhvi', ascending=False)[:10]"
   ]
  }
 ],
 "metadata": {
  "kernelspec": {
   "display_name": "Python 2",
   "language": "python",
   "name": "python2"
  },
  "language_info": {
   "codemirror_mode": {
    "name": "ipython",
    "version": 2
   },
   "file_extension": ".py",
   "mimetype": "text/x-python",
   "name": "python",
   "nbconvert_exporter": "python",
   "pygments_lexer": "ipython2",
   "version": "2.7.11"
  }
 },
 "nbformat": 4,
 "nbformat_minor": 1
}
